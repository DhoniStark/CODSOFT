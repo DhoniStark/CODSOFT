{
  "nbformat": 4,
  "nbformat_minor": 0,
  "metadata": {
    "colab": {
      "provenance": []
    },
    "kernelspec": {
      "name": "python3",
      "display_name": "Python 3"
    },
    "language_info": {
      "name": "python"
    }
  },
  "cells": [
    {
      "cell_type": "code",
      "execution_count": 4,
      "metadata": {
        "id": "qkDgJNhbZI4r"
      },
      "outputs": [],
      "source": [
        "import pandas as pd\n",
        "from sklearn.feature_extraction.text import TfidfVectorizer\n",
        "from sklearn.metrics.pairwise import linear_kernel\n"
      ]
    },
    {
      "cell_type": "code",
      "source": [
        "# Create a sample dataset of books and user preferences\n",
        "data = {\n",
        "    'Title': ['Book 1', 'Book 2', 'Book 3', 'Book 4', 'Book 5'],\n",
        "    'Genre': ['Mystery', 'Science Fiction', 'Romance', 'Science Fiction', 'Mystery'],\n",
        "    'Author': ['Author A', 'Author B', 'Author C', 'Author B', 'Author D'],\n",
        "    'Description': [\n",
        "        'A thrilling mystery novel with suspenseful twists.',\n",
        "        'Explore the galaxy in this epic science fiction adventure.',\n",
        "        'A heartwarming romance set in a picturesque countryside.',\n",
        "        'Join an interstellar journey in this science fiction classic.',\n",
        "        'Solve a gripping mystery in a small, eerie town.'\n",
        "    ]\n",
        "}"
      ],
      "metadata": {
        "id": "XMk6gSlodSO_"
      },
      "execution_count": 8,
      "outputs": []
    },
    {
      "cell_type": "code",
      "source": [
        "# Create a DataFrame from the sample data\n",
        "df = pd.DataFrame(data)"
      ],
      "metadata": {
        "id": "WfUsVGzcdeFg"
      },
      "execution_count": 9,
      "outputs": []
    },
    {
      "cell_type": "code",
      "source": [
        "# Create a TF-IDF vectorizer to convert book descriptions into numerical features\n",
        "tfidf_vectorizer = TfidfVectorizer(stop_words='english')\n",
        "tfidf_matrix = tfidf_vectorizer.fit_transform(df['Description'])"
      ],
      "metadata": {
        "id": "wUj1OKcldp7o"
      },
      "execution_count": 10,
      "outputs": []
    },
    {
      "cell_type": "code",
      "source": [
        "# Calculate the cosine similarity between books based on their descriptions\n",
        "cosine_sim = linear_kernel(tfidf_matrix, tfidf_matrix)"
      ],
      "metadata": {
        "id": "c4E-Xk4Hd12T"
      },
      "execution_count": 11,
      "outputs": []
    },
    {
      "cell_type": "code",
      "source": [
        "# Function to get book recommendations for a user based on their preferences\n",
        "def get_book_recommendations(title, cosine_sim=cosine_sim, df=df, num_recommendations=5):\n",
        "# Find the index of the book with the given title\n",
        "    idx = df.index[df['Title'] == title].tolist()[0]\n",
        " # Calculate the cosine similarity scores for all books\n",
        "    sim_scores = list(enumerate(cosine_sim[idx]))\n",
        "\n",
        "    # Sort the books based on similarity scores in descending order\n",
        "    sim_scores = sorted(sim_scores, key=lambda x: x[1], reverse=True)\n",
        "\n",
        "    # Get the indices of the top N most similar books (excluding the input book)\n",
        "    top_indices = [i for i, _ in sim_scores[1:num_recommendations+1]]\n",
        "\n",
        "    # Return the top N recommended book titles\n",
        "    recommended_books = df['Title'].iloc[top_indices]\n",
        "\n",
        "    return recommended_books"
      ],
      "metadata": {
        "id": "5z1BVdljeELw"
      },
      "execution_count": 18,
      "outputs": []
    },
    {
      "cell_type": "code",
      "source": [
        "# Example: Recommend books for a user based on their preference for a particular book\n",
        "user_preference = 'Book 2'\n",
        "recommendations = get_book_recommendations(user_preference)\n",
        "print(recommendations)"
      ],
      "metadata": {
        "colab": {
          "base_uri": "https://localhost:8080/"
        },
        "id": "JQMpGwibfEv7",
        "outputId": "ed80127d-45db-4b97-894e-4a84cb770fe2"
      },
      "execution_count": 22,
      "outputs": [
        {
          "output_type": "stream",
          "name": "stdout",
          "text": [
            "3    Book 4\n",
            "0    Book 1\n",
            "2    Book 3\n",
            "4    Book 5\n",
            "Name: Title, dtype: object\n"
          ]
        }
      ]
    }
  ]
}